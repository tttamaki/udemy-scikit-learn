{
 "cells": [
  {
   "cell_type": "code",
   "execution_count": null,
   "metadata": {
    "ExecuteTime": {
     "end_time": "2017-06-22T08:23:33.512929Z",
     "start_time": "2017-06-22T08:23:29.808934Z"
    }
   },
   "outputs": [],
   "source": [
    "import urllib.request\n",
    "# データのダウンロード\n",
    "urllib.request.urlretrieve(\"http://www.gutenberg.org/files/11/11-0.txt\", \"allice.txt\")"
   ]
  },
  {
   "cell_type": "code",
   "execution_count": null,
   "metadata": {
    "ExecuteTime": {
     "end_time": "2017-06-22T08:23:33.519167Z",
     "start_time": "2017-06-22T08:23:33.514010Z"
    }
   },
   "outputs": [],
   "source": [
    "with open('allice.txt', 'r', encoding='UTF-8') as f:\n",
    "    print(f.read()[660:1400])"
   ]
  },
  {
   "cell_type": "code",
   "execution_count": null,
   "metadata": {
    "ExecuteTime": {
     "end_time": "2017-06-22T08:23:34.041547Z",
     "start_time": "2017-06-22T08:23:33.520591Z"
    }
   },
   "outputs": [],
   "source": [
    "from sklearn.feature_extraction.text import CountVectorizer"
   ]
  },
  {
   "cell_type": "code",
   "execution_count": null,
   "metadata": {
    "ExecuteTime": {
     "end_time": "2017-06-22T08:23:34.045111Z",
     "start_time": "2017-06-22T08:23:34.042480Z"
    }
   },
   "outputs": [],
   "source": [
    "txt_vec = CountVectorizer(input='filename')"
   ]
  },
  {
   "cell_type": "code",
   "execution_count": null,
   "metadata": {
    "ExecuteTime": {
     "end_time": "2017-06-22T08:23:34.103625Z",
     "start_time": "2017-06-22T08:23:34.046562Z"
    }
   },
   "outputs": [],
   "source": [
    "txt_vec.fit(['allice.txt'])"
   ]
  },
  {
   "cell_type": "code",
   "execution_count": null,
   "metadata": {
    "ExecuteTime": {
     "end_time": "2017-06-22T08:23:34.110877Z",
     "start_time": "2017-06-22T08:23:34.104966Z"
    },
    "scrolled": true
   },
   "outputs": [],
   "source": [
    "txt_vec.get_feature_names_out()[100:120]"
   ]
  },
  {
   "cell_type": "code",
   "execution_count": null,
   "metadata": {
    "ExecuteTime": {
     "end_time": "2017-06-22T08:23:34.117761Z",
     "start_time": "2017-06-22T08:23:34.112201Z"
    },
    "scrolled": false
   },
   "outputs": [],
   "source": [
    "len(txt_vec.get_feature_names_out())"
   ]
  },
  {
   "cell_type": "code",
   "execution_count": null,
   "metadata": {
    "ExecuteTime": {
     "end_time": "2017-06-22T08:23:34.149601Z",
     "start_time": "2017-06-22T08:23:34.119300Z"
    }
   },
   "outputs": [],
   "source": [
    "allice_vec = txt_vec.transform(['allice.txt'])"
   ]
  },
  {
   "cell_type": "code",
   "execution_count": null,
   "metadata": {
    "ExecuteTime": {
     "end_time": "2017-06-22T08:23:34.154520Z",
     "start_time": "2017-06-22T08:23:34.150929Z"
    }
   },
   "outputs": [],
   "source": [
    "allice_vec"
   ]
  },
  {
   "cell_type": "code",
   "execution_count": null,
   "metadata": {
    "ExecuteTime": {
     "end_time": "2017-06-22T08:23:34.159154Z",
     "start_time": "2017-06-22T08:23:34.155883Z"
    }
   },
   "outputs": [],
   "source": [
    "allice_vec.shape"
   ]
  },
  {
   "cell_type": "code",
   "execution_count": null,
   "metadata": {
    "ExecuteTime": {
     "end_time": "2017-06-22T08:23:34.163863Z",
     "start_time": "2017-06-22T08:23:34.160610Z"
    }
   },
   "outputs": [],
   "source": [
    "allice_vec = allice_vec.toarray()"
   ]
  },
  {
   "cell_type": "code",
   "execution_count": null,
   "metadata": {
    "ExecuteTime": {
     "end_time": "2017-06-22T08:23:34.168945Z",
     "start_time": "2017-06-22T08:23:34.164975Z"
    }
   },
   "outputs": [],
   "source": [
    "allice_vec[0, 100:120]"
   ]
  },
  {
   "cell_type": "code",
   "execution_count": null,
   "metadata": {
    "ExecuteTime": {
     "end_time": "2017-06-22T08:23:34.180421Z",
     "start_time": "2017-06-22T08:23:34.170269Z"
    },
    "scrolled": true
   },
   "outputs": [],
   "source": [
    "for word,count in zip(txt_vec.get_feature_names_out()[100:120], allice_vec[0, 100:120]):\n",
    "    print(word, count)"
   ]
  },
  {
   "cell_type": "code",
   "execution_count": null,
   "metadata": {},
   "outputs": [],
   "source": []
  },
  {
   "cell_type": "code",
   "execution_count": null,
   "metadata": {},
   "outputs": [],
   "source": []
  },
  {
   "cell_type": "code",
   "execution_count": null,
   "metadata": {},
   "outputs": [],
   "source": []
  },
  {
   "cell_type": "code",
   "execution_count": null,
   "metadata": {},
   "outputs": [],
   "source": []
  },
  {
   "cell_type": "code",
   "execution_count": null,
   "metadata": {
    "ExecuteTime": {
     "end_time": "2017-06-22T08:23:34.212589Z",
     "start_time": "2017-06-22T08:23:34.181860Z"
    }
   },
   "outputs": [],
   "source": [
    "from sklearn.datasets import load_sample_image"
   ]
  },
  {
   "cell_type": "code",
   "execution_count": null,
   "metadata": {
    "ExecuteTime": {
     "end_time": "2017-06-22T08:23:34.352055Z",
     "start_time": "2017-06-22T08:23:34.213911Z"
    }
   },
   "outputs": [],
   "source": [
    "china = load_sample_image('china.jpg')"
   ]
  },
  {
   "cell_type": "code",
   "execution_count": null,
   "metadata": {
    "ExecuteTime": {
     "end_time": "2017-06-22T08:23:34.711763Z",
     "start_time": "2017-06-22T08:23:34.353006Z"
    }
   },
   "outputs": [],
   "source": [
    "import matplotlib.pyplot as plt\n",
    "%matplotlib inline\n",
    "\n",
    "plt.imshow(china);"
   ]
  },
  {
   "cell_type": "code",
   "execution_count": null,
   "metadata": {
    "ExecuteTime": {
     "end_time": "2017-06-22T08:23:34.716119Z",
     "start_time": "2017-06-22T08:23:34.713111Z"
    }
   },
   "outputs": [],
   "source": [
    "china.shape"
   ]
  },
  {
   "cell_type": "code",
   "execution_count": null,
   "metadata": {
    "ExecuteTime": {
     "end_time": "2017-06-22T08:23:35.107165Z",
     "start_time": "2017-06-22T08:23:34.717598Z"
    }
   },
   "outputs": [],
   "source": [
    "histR = plt.hist(china[:,:,0].ravel(), bins=10)\n",
    "plt.show()\n",
    "histG = plt.hist(china[:,:,1].ravel(), bins=10)\n",
    "plt.show()\n",
    "histB = plt.hist(china[:,:,2].ravel(), bins=10)\n",
    "plt.show()"
   ]
  },
  {
   "cell_type": "code",
   "execution_count": null,
   "metadata": {
    "ExecuteTime": {
     "end_time": "2017-06-22T08:23:35.111297Z",
     "start_time": "2017-06-22T08:23:35.108356Z"
    }
   },
   "outputs": [],
   "source": [
    "import numpy as np\n",
    "\n",
    "histRGBcat = np.hstack((histR[0], histG[0], histB[0]))"
   ]
  },
  {
   "cell_type": "code",
   "execution_count": null,
   "metadata": {
    "ExecuteTime": {
     "end_time": "2017-06-22T08:23:35.260958Z",
     "start_time": "2017-06-22T08:23:35.113045Z"
    }
   },
   "outputs": [],
   "source": [
    "plt.bar(range(len(histRGBcat)), histRGBcat);"
   ]
  },
  {
   "cell_type": "code",
   "execution_count": null,
   "metadata": {
    "ExecuteTime": {
     "end_time": "2017-06-22T08:23:35.416171Z",
     "start_time": "2017-06-22T08:23:35.262669Z"
    }
   },
   "outputs": [],
   "source": [
    "histRGBcat_l1 = histRGBcat / (china.shape[0]*china.shape[1])\n",
    "plt.bar(range(len(histRGBcat_l1)), histRGBcat_l1);"
   ]
  },
  {
   "cell_type": "code",
   "execution_count": null,
   "metadata": {},
   "outputs": [],
   "source": []
  }
 ],
 "metadata": {
  "anaconda-cloud": {},
  "kernelspec": {
   "display_name": "Python 3",
   "language": "python",
   "name": "python3"
  },
  "language_info": {
   "codemirror_mode": {
    "name": "ipython",
    "version": 3
   },
   "file_extension": ".py",
   "mimetype": "text/x-python",
   "name": "python",
   "nbconvert_exporter": "python",
   "pygments_lexer": "ipython3",
   "version": "3.11.4"
  },
  "toc": {
   "colors": {
    "hover_highlight": "#DAA520",
    "running_highlight": "#FF0000",
    "selected_highlight": "#FFD700"
   },
   "moveMenuLeft": true,
   "nav_menu": {
    "height": "12px",
    "width": "252px"
   },
   "navigate_menu": true,
   "number_sections": true,
   "sideBar": true,
   "threshold": 4,
   "toc_cell": false,
   "toc_section_display": "block",
   "toc_window_display": false,
   "widenNotebook": false
  }
 },
 "nbformat": 4,
 "nbformat_minor": 1
}
